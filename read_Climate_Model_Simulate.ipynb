{
 "cells": [
  {
   "cell_type": "code",
   "execution_count": 9,
   "id": "92eea359",
   "metadata": {
    "ExecuteTime": {
     "end_time": "2021-08-24T00:56:28.078396Z",
     "start_time": "2021-08-24T00:56:28.076223Z"
    }
   },
   "outputs": [],
   "source": [
    "import re\n",
    "import numpy as np\n",
    "import pandas as pd"
   ]
  },
  {
   "cell_type": "code",
   "execution_count": 10,
   "id": "77ed7d38",
   "metadata": {
    "ExecuteTime": {
     "end_time": "2021-08-24T00:56:31.969537Z",
     "start_time": "2021-08-24T00:56:31.959014Z"
    }
   },
   "outputs": [
    {
     "data": {
      "text/plain": [
       "22"
      ]
     },
     "execution_count": 10,
     "metadata": {},
     "output_type": "execute_result"
    }
   ],
   "source": [
    "# 把所有数据的listdir一列换成输出类别\n",
    "\n",
    "# 。 DSC 文件错误，，find . -name \"*.DS_Store\" -type f -delete\n",
    "# {'diabetes.txt', 'transfusion.data', 'balance-scale.data'}\n",
    "import os\n",
    "\n",
    "path = r'/Users/snszz/PycharmProjects/AVFL/RVFL_datasets/UCI/'\n",
    "data_path = []\n",
    "for path1 in os.listdir(path):\n",
    "    for path2 in os.listdir(path + path1):\n",
    "        if path2.endswith('txt') or path2.endswith('csv') or \\\n",
    "        path2.endswith('dat') or path2.endswith('.data'):\n",
    "            path2 = path + path1  + '/' + path2\n",
    "            data_path.append(path2)\n",
    "len(data_path)      "
   ]
  },
  {
   "cell_type": "code",
   "execution_count": 11,
   "id": "647a2285",
   "metadata": {
    "ExecuteTime": {
     "end_time": "2021-08-24T00:56:35.164161Z",
     "start_time": "2021-08-24T00:56:35.156411Z"
    }
   },
   "outputs": [
    {
     "data": {
      "text/plain": [
       "['Study',\n",
       " 'Run',\n",
       " 'vconst_corr',\n",
       " 'vconst_2',\n",
       " 'vconst_3',\n",
       " 'vconst_4',\n",
       " 'vconst_5',\n",
       " 'vconst_7',\n",
       " 'ah_corr',\n",
       " 'ah_bolus',\n",
       " 'slm_corr',\n",
       " 'efficiency_factor',\n",
       " 'tidal_mix_max',\n",
       " 'vertical_decay_scale',\n",
       " 'convect_corr',\n",
       " 'bckgrnd_vdc1',\n",
       " 'bckgrnd_vdc_ban',\n",
       " 'bckgrnd_vdc_eq',\n",
       " 'bckgrnd_vdc_psim',\n",
       " 'Prandtl']"
      ]
     },
     "execution_count": 11,
     "metadata": {},
     "output_type": "execute_result"
    }
   ],
   "source": [
    "names = 'Study, Run, vconst_corr, vconst_2, vconst_3, vconst_4, vconst_5, vconst_7, ah_corr, ah_bolus, slm_corr, efficiency_factor, tidal_mix_max, vertical_decay_scale, convect_corr, bckgrnd_vdc1,  bckgrnd_vdc_ban, bckgrnd_vdc_eq, bckgrnd_vdc_psim, Prandtl, outcome'\n",
    "names1 = re.findall(r'(.*?),', names)\n",
    "names2 = []\n",
    "for string in names1:\n",
    "    string = string.strip()\n",
    "    names2.append(string)\n",
    "names2"
   ]
  },
  {
   "cell_type": "code",
   "execution_count": 98,
   "id": "f55d5119",
   "metadata": {
    "ExecuteTime": {
     "end_time": "2021-08-24T02:21:26.760472Z",
     "start_time": "2021-08-24T02:21:26.753601Z"
    }
   },
   "outputs": [
    {
     "name": "stdout",
     "output_type": "stream",
     "text": [
      "['pop_failures.dat'] 0000\n",
      "/Users/snszz/PycharmProjects/AVFL/RVFL_datasets/UCI/Climate_Model_Simulation_Crashes/pop_failures ------\n"
     ]
    }
   ],
   "source": [
    "# 0 1 2 3 4 5 6 7 8 9 10 12 13 14\n",
    "#       15 16\n",
    "nums = 16\n",
    "path = data_path[nums]\n",
    "path0 = re.findall(r'[^\\\\/:*?\"<>|\\r\\n]+$', path)\n",
    "print(path0,'0000')\n",
    "\n",
    "path2 = re.findall(r'(.+?)\\.dat', path)[0]\n",
    "print(path2, '------')"
   ]
  },
  {
   "cell_type": "code",
   "execution_count": 101,
   "id": "90a92c17",
   "metadata": {
    "ExecuteTime": {
     "end_time": "2021-08-24T02:22:19.545682Z",
     "start_time": "2021-08-24T02:22:19.537619Z"
    }
   },
   "outputs": [
    {
     "name": "stdout",
     "output_type": "stream",
     "text": [
      "541\n"
     ]
    }
   ],
   "source": [
    "# 读取数据\n",
    "path3 = '/Users/snszz/PycharmProjects/AVFL/RVFL_datasets/UCI/Climate_Model_Simulation_Crashes/pop_failures.dat'\n",
    "d1 = []\n",
    "with open(path3, encoding='utf-8', newline='') as f:\n",
    "    for line in f:\n",
    "        d1.append(line.strip())\n",
    "print(len(d1))"
   ]
  },
  {
   "cell_type": "code",
   "execution_count": 103,
   "id": "daf3c0aa",
   "metadata": {
    "ExecuteTime": {
     "end_time": "2021-08-24T02:23:44.239979Z",
     "start_time": "2021-08-24T02:23:44.233479Z"
    }
   },
   "outputs": [
    {
     "data": {
      "text/plain": [
       "['Study      Run             vconst_corr                vconst_2                vconst_3                vconst_4                 vconst_5                vconst_7                 ah_corr               ah_bolus                slm_corr       efficiency_factor           tidal_mix_max      vertical_decay_scale            convect_corr            bckgrnd_vdc1          bckgrnd_vdc_ban          bckgrnd_vdc_eq        bckgrnd_vdc_psim                 Prandtl   outcome',\n",
       " '1        1      0.8590362064372231      0.9278245357602525      0.2528656223672442       0.298838311199668       0.1705212998954166       0.735936040913738      0.4283254278810799     0.5679469417703027      0.4743695999935477      0.2456748547110086      0.1042258652974851        0.8690907029810155      0.9975184956319734      0.4486200774528293       0.3075217871189428      0.8583103652138057      0.7969972396308247      0.8698930381357464         0']"
      ]
     },
     "execution_count": 103,
     "metadata": {},
     "output_type": "execute_result"
    }
   ],
   "source": [
    "d1[:2]"
   ]
  },
  {
   "cell_type": "code",
   "execution_count": 102,
   "id": "8f5aebce",
   "metadata": {
    "ExecuteTime": {
     "end_time": "2021-08-24T02:22:58.032870Z",
     "start_time": "2021-08-24T02:22:57.944307Z"
    }
   },
   "outputs": [],
   "source": [
    "# 把字符串数据的空格分离\n",
    "dict1 = []\n",
    "for j in range(len(d1)):\n",
    "    d2 = d1[j]\n",
    "    temp = []\n",
    "    i = 0\n",
    "    while i < len(d2):\n",
    "        if d2[i] == ' ':\n",
    "            i += 1\n",
    "            continue\n",
    "        k = i\n",
    "        while (k < len(d2)) and (d2[k] != ' '):\n",
    "            k += 1\n",
    "        temp.append(d2[i:k])\n",
    "        i = k\n",
    "    dict1.append(temp)\n"
   ]
  },
  {
   "cell_type": "code",
   "execution_count": 104,
   "id": "4aabb5d7",
   "metadata": {
    "ExecuteTime": {
     "end_time": "2021-08-24T02:24:04.032287Z",
     "start_time": "2021-08-24T02:24:04.025452Z"
    }
   },
   "outputs": [
    {
     "data": {
      "text/plain": [
       "[['Study',\n",
       "  'Run',\n",
       "  'vconst_corr',\n",
       "  'vconst_2',\n",
       "  'vconst_3',\n",
       "  'vconst_4',\n",
       "  'vconst_5',\n",
       "  'vconst_7',\n",
       "  'ah_corr',\n",
       "  'ah_bolus',\n",
       "  'slm_corr',\n",
       "  'efficiency_factor',\n",
       "  'tidal_mix_max',\n",
       "  'vertical_decay_scale',\n",
       "  'convect_corr',\n",
       "  'bckgrnd_vdc1',\n",
       "  'bckgrnd_vdc_ban',\n",
       "  'bckgrnd_vdc_eq',\n",
       "  'bckgrnd_vdc_psim',\n",
       "  'Prandtl',\n",
       "  'outcome'],\n",
       " ['1',\n",
       "  '1',\n",
       "  '0.8590362064372231',\n",
       "  '0.9278245357602525',\n",
       "  '0.2528656223672442',\n",
       "  '0.298838311199668',\n",
       "  '0.1705212998954166',\n",
       "  '0.735936040913738',\n",
       "  '0.4283254278810799',\n",
       "  '0.5679469417703027',\n",
       "  '0.4743695999935477',\n",
       "  '0.2456748547110086',\n",
       "  '0.1042258652974851',\n",
       "  '0.8690907029810155',\n",
       "  '0.9975184956319734',\n",
       "  '0.4486200774528293',\n",
       "  '0.3075217871189428',\n",
       "  '0.8583103652138057',\n",
       "  '0.7969972396308247',\n",
       "  '0.8698930381357464',\n",
       "  '0']]"
      ]
     },
     "execution_count": 104,
     "metadata": {},
     "output_type": "execute_result"
    }
   ],
   "source": [
    "dict1[:2]"
   ]
  },
  {
   "cell_type": "code",
   "execution_count": 105,
   "id": "ab32cecd",
   "metadata": {
    "ExecuteTime": {
     "end_time": "2021-08-24T02:24:31.676740Z",
     "start_time": "2021-08-24T02:24:31.665767Z"
    }
   },
   "outputs": [],
   "source": [
    "# list--->pandas\n",
    "columns = dict1[0]\n",
    "data = dict1[1:]\n",
    "# 字符串到数组\n",
    "data = np.asfarray(data)\n",
    "# data + columns ---> pandas\n",
    "\n",
    "data = pd.DataFrame(data, columns=columns)\n",
    "data['outcome'] = data['outcome'].astype(np.int32)\n"
   ]
  },
  {
   "cell_type": "code",
   "execution_count": 106,
   "id": "7bf3970e",
   "metadata": {
    "ExecuteTime": {
     "end_time": "2021-08-24T02:27:15.077606Z",
     "start_time": "2021-08-24T02:27:15.072522Z"
    }
   },
   "outputs": [
    {
     "data": {
      "text/plain": [
       "'/Users/snszz/PycharmProjects/AVFL/RVFL_datasets/UCI/Climate_Model_Simulation_Crashes/pop_failures'"
      ]
     },
     "execution_count": 106,
     "metadata": {},
     "output_type": "execute_result"
    }
   ],
   "source": [
    "path2"
   ]
  },
  {
   "cell_type": "code",
   "execution_count": 107,
   "id": "78314976",
   "metadata": {
    "ExecuteTime": {
     "end_time": "2021-08-24T02:27:26.862384Z",
     "start_time": "2021-08-24T02:27:26.829095Z"
    }
   },
   "outputs": [],
   "source": [
    "# arr_df.to_csv(csv_filename, float_format='%.3f', )\n",
    "# 保存数据\n",
    "# data2.to_csv(path2 + '.csv',index=False, header=None)\n",
    "data.to_csv(path2 + '.csv',index=False)"
   ]
  },
  {
   "cell_type": "code",
   "execution_count": null,
   "id": "8fa4d25e",
   "metadata": {},
   "outputs": [],
   "source": []
  }
 ],
 "metadata": {
  "hide_input": false,
  "kernelspec": {
   "display_name": "Python 3 (ipykernel)",
   "language": "python",
   "name": "python3"
  },
  "language_info": {
   "codemirror_mode": {
    "name": "ipython",
    "version": 3
   },
   "file_extension": ".py",
   "mimetype": "text/x-python",
   "name": "python",
   "nbconvert_exporter": "python",
   "pygments_lexer": "ipython3",
   "version": "3.7.10"
  },
  "nbTranslate": {
   "displayLangs": [
    "*"
   ],
   "hotkey": "alt-t",
   "langInMainMenu": true,
   "sourceLang": "en",
   "targetLang": "fr",
   "useGoogleTranslate": true
  },
  "toc": {
   "base_numbering": 1,
   "nav_menu": {},
   "number_sections": true,
   "sideBar": true,
   "skip_h1_title": false,
   "title_cell": "Table of Contents",
   "title_sidebar": "Contents",
   "toc_cell": false,
   "toc_position": {},
   "toc_section_display": true,
   "toc_window_display": false
  },
  "varInspector": {
   "cols": {
    "lenName": 16,
    "lenType": 16,
    "lenVar": 40
   },
   "kernels_config": {
    "python": {
     "delete_cmd_postfix": "",
     "delete_cmd_prefix": "del ",
     "library": "var_list.py",
     "varRefreshCmd": "print(var_dic_list())"
    },
    "r": {
     "delete_cmd_postfix": ") ",
     "delete_cmd_prefix": "rm(",
     "library": "var_list.r",
     "varRefreshCmd": "cat(var_dic_list()) "
    }
   },
   "types_to_exclude": [
    "module",
    "function",
    "builtin_function_or_method",
    "instance",
    "_Feature"
   ],
   "window_display": false
  }
 },
 "nbformat": 4,
 "nbformat_minor": 5
}
