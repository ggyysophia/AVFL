{
 "cells": [
  {
   "cell_type": "code",
   "execution_count": 194,
   "id": "28639321",
   "metadata": {
    "ExecuteTime": {
     "end_time": "2021-08-25T16:56:53.179572Z",
     "start_time": "2021-08-25T16:56:53.176096Z"
    }
   },
   "outputs": [],
   "source": [
    "import numpy as np\n",
    "import pandas as pd\n",
    "from sklearn import datasets\n",
    "from sklearn.linear_model import LogisticRegression, LinearRegression\n",
    "from sklearn.model_selection import train_test_split\n",
    "from sklearn.preprocessing import LabelEncoder, OneHotEncoder\n",
    "\n",
    "import warnings\n",
    "\n",
    "warnings.filterwarnings('ignore')"
   ]
  },
  {
   "cell_type": "code",
   "execution_count": 1,
   "id": "85fe2c5e",
   "metadata": {
    "ExecuteTime": {
     "end_time": "2021-08-25T08:29:19.459237Z",
     "start_time": "2021-08-25T08:29:18.423220Z"
    }
   },
   "outputs": [
    {
     "name": "stdout",
     "output_type": "stream",
     "text": [
      "(100, 4)\n",
      "[0 0 0 0 0 0 0 0 0 0 0 0 0 0 0 0 0 0 0 0 0 0 0 0 0 0 0 0 0 0 0 0 0 0 0 0 0\n",
      " 0 0 0 0 0 0 0 0 0 0 0 0 0 1 1 1 1 1 1 1 1 1 1 1 1 1 1 1 1 1 1 1 1 1 1 1 1\n",
      " 1 1 1 1 1 1 1 1 1 1 1 1 1 1 1 1 1 1 1 1 1 1 1 1 1 1]\n",
      "[[ 0.46064286 -0.78751714  2.18664882  0.92839897]]\n",
      "=====================模型预测的概率：\n",
      " [[0.04044534 0.95955466]\n",
      " [0.01045715 0.98954285]\n",
      " [0.98706156 0.01293844]\n",
      " [0.05442277 0.94557723]\n",
      " [0.13838323 0.86161677]\n",
      " [0.97966136 0.02033864]\n",
      " [0.98204789 0.01795211]\n",
      " [0.03292766 0.96707234]\n",
      " [0.03381355 0.96618645]\n",
      " [0.0085052  0.9914948 ]\n",
      " [0.02466546 0.97533454]\n",
      " [0.97515907 0.02484093]\n",
      " [0.00517643 0.99482357]\n",
      " [0.00238343 0.99761657]\n",
      " [0.00774374 0.99225626]\n",
      " [0.98618577 0.01381423]\n",
      " [0.96598134 0.03401866]\n",
      " [0.94905767 0.05094233]\n",
      " [0.00735426 0.99264574]\n",
      " [0.97742702 0.02257298]]\n",
      "=====================计算得到的的概率：\n",
      " [[0.04044534 0.95955466]\n",
      " [0.01045715 0.98954285]\n",
      " [0.98706156 0.01293844]\n",
      " [0.05442277 0.94557723]\n",
      " [0.13838323 0.86161677]\n",
      " [0.97966136 0.02033864]\n",
      " [0.98204789 0.01795211]\n",
      " [0.03292766 0.96707234]\n",
      " [0.03381355 0.96618645]\n",
      " [0.0085052  0.9914948 ]\n",
      " [0.02466546 0.97533454]\n",
      " [0.97515907 0.02484093]\n",
      " [0.00517643 0.99482357]\n",
      " [0.00238343 0.99761657]\n",
      " [0.00774374 0.99225626]\n",
      " [0.98618577 0.01381423]\n",
      " [0.96598134 0.03401866]\n",
      " [0.94905767 0.05094233]\n",
      " [0.00735426 0.99264574]\n",
      " [0.97742702 0.02257298]]\n"
     ]
    }
   ],
   "source": [
    "\n",
    "\n",
    "data=datasets.load_iris()\n",
    "x=data[\"data\"]\n",
    "y=data[\"target\"]\n",
    "#先做一个二分类问题\n",
    "cond=y!=2\n",
    "x=x[cond]\n",
    "print(x.shape)\n",
    "y=y[cond]\n",
    "print(y)\n",
    "\n",
    "x_train,x_test,y_train,y_test=train_test_split(x,y,test_size=0.2,random_state=1)\n",
    "lr=LogisticRegression(max_iter=1000,multi_class=\"ovr\")\n",
    "lr.fit(x_train,y_train)\n",
    "w=lr.coef_\n",
    "b=lr.intercept_\n",
    "print(w)\n",
    "p=lr.predict_proba(x_test)\n",
    "print(\"=====================模型预测的概率：\\n\",p)\n",
    "\n",
    "y_= x_test.dot(w[0].T)+b\n",
    "proba_=1/(1+np.exp(-y_))\n",
    "a=np.c_[1-proba_,proba_]\n",
    "print(\"=====================计算得到的的概率：\\n\",a)\n"
   ]
  },
  {
   "cell_type": "code",
   "execution_count": 4,
   "id": "ff18aab3",
   "metadata": {
    "ExecuteTime": {
     "end_time": "2021-08-25T09:06:37.629625Z",
     "start_time": "2021-08-25T09:06:37.619047Z"
    }
   },
   "outputs": [
    {
     "data": {
      "text/html": [
       "<div>\n",
       "<style scoped>\n",
       "    .dataframe tbody tr th:only-of-type {\n",
       "        vertical-align: middle;\n",
       "    }\n",
       "\n",
       "    .dataframe tbody tr th {\n",
       "        vertical-align: top;\n",
       "    }\n",
       "\n",
       "    .dataframe thead th {\n",
       "        text-align: right;\n",
       "    }\n",
       "</style>\n",
       "<table border=\"1\" class=\"dataframe\">\n",
       "  <thead>\n",
       "    <tr style=\"text-align: right;\">\n",
       "      <th></th>\n",
       "      <th>0</th>\n",
       "      <th>1</th>\n",
       "      <th>2</th>\n",
       "      <th>3</th>\n",
       "      <th>4</th>\n",
       "    </tr>\n",
       "  </thead>\n",
       "  <tbody>\n",
       "    <tr>\n",
       "      <th>0</th>\n",
       "      <td>1</td>\n",
       "      <td>1</td>\n",
       "      <td>1</td>\n",
       "      <td>1</td>\n",
       "      <td>B</td>\n",
       "    </tr>\n",
       "    <tr>\n",
       "      <th>1</th>\n",
       "      <td>1</td>\n",
       "      <td>1</td>\n",
       "      <td>1</td>\n",
       "      <td>2</td>\n",
       "      <td>R</td>\n",
       "    </tr>\n",
       "    <tr>\n",
       "      <th>2</th>\n",
       "      <td>1</td>\n",
       "      <td>1</td>\n",
       "      <td>1</td>\n",
       "      <td>3</td>\n",
       "      <td>R</td>\n",
       "    </tr>\n",
       "    <tr>\n",
       "      <th>3</th>\n",
       "      <td>1</td>\n",
       "      <td>1</td>\n",
       "      <td>1</td>\n",
       "      <td>4</td>\n",
       "      <td>R</td>\n",
       "    </tr>\n",
       "    <tr>\n",
       "      <th>4</th>\n",
       "      <td>1</td>\n",
       "      <td>1</td>\n",
       "      <td>1</td>\n",
       "      <td>5</td>\n",
       "      <td>R</td>\n",
       "    </tr>\n",
       "  </tbody>\n",
       "</table>\n",
       "</div>"
      ],
      "text/plain": [
       "   0  1  2  3  4\n",
       "0  1  1  1  1  B\n",
       "1  1  1  1  2  R\n",
       "2  1  1  1  3  R\n",
       "3  1  1  1  4  R\n",
       "4  1  1  1  5  R"
      ]
     },
     "execution_count": 4,
     "metadata": {},
     "output_type": "execute_result"
    }
   ],
   "source": [
    "# command + option + c 复制路径\n",
    "path = '/Users/snszz/PycharmProjects/AVFL/RVFL_datasets/UCI/Balance_Scale/balance-scale.csv'\n",
    "balance_scale = pd.read_csv(path, sep=',', encoding='utf-8', header=None)\n",
    "balance_scale.head()"
   ]
  },
  {
   "cell_type": "code",
   "execution_count": 153,
   "id": "2a9b5d9d",
   "metadata": {
    "ExecuteTime": {
     "end_time": "2021-08-25T15:38:04.395211Z",
     "start_time": "2021-08-25T15:38:04.359368Z"
    }
   },
   "outputs": [
    {
     "name": "stdout",
     "output_type": "stream",
     "text": [
      "w.shape \n",
      " (3, 4)\n",
      "=====================模型预测的概率：\n",
      " ['L' 'R' 'R' 'L' 'L' 'R' 'L' 'R' 'L' 'R' 'L' 'L' 'L' 'L' 'L' 'R' 'R' 'L'\n",
      " 'L' 'R' 'L' 'L' 'L' 'L' 'L' 'R' 'L' 'R' 'R' 'R' 'L' 'L' 'R' 'L' 'R' 'L'\n",
      " 'R' 'L' 'R' 'R' 'R' 'L' 'L' 'R' 'R' 'L' 'R' 'R' 'R' 'R' 'R' 'R' 'R' 'L'\n",
      " 'L' 'R' 'L' 'L' 'R' 'R' 'L' 'R' 'R' 'L' 'L' 'R' 'L' 'R' 'L' 'L' 'L' 'R'\n",
      " 'L' 'L' 'R' 'L' 'R' 'L' 'L' 'L' 'L' 'R' 'R' 'L' 'R' 'R' 'L' 'L' 'L' 'L'\n",
      " 'L' 'L' 'L' 'R' 'L' 'L' 'R' 'L' 'L' 'L' 'L' 'L' 'R' 'R' 'L' 'L' 'R' 'R'\n",
      " 'R' 'L' 'R' 'L' 'R' 'L' 'L' 'R' 'L' 'L' 'L' 'R' 'L' 'L' 'L' 'L' 'R']\n",
      "0.832\n",
      "accuracy: 0.832\n"
     ]
    }
   ],
   "source": [
    "balance_scale_x = balance_scale.iloc[:,:-1].values\n",
    "balance_scale_y = balance_scale.iloc[:, -1].values\n",
    "x_train,x_test,y_train,y_test=train_test_split(balance_scale_x,balance_scale_y,test_size=0.2,random_state=1)\n",
    "lr=LogisticRegression(penalty = 'none',max_iter=1000,multi_class=\"ovr\")\n",
    "lr.fit(x_train,y_train)\n",
    "w=lr.coef_\n",
    "b=lr.intercept_\n",
    "print('w.shape \\n', w.shape)\n",
    "predict = lr.predict(x_test)\n",
    "print(\"=====================模型预测的概率：\\n\",predict)\n",
    "print(lr.score(x_test, y_test))\n",
    "\n",
    "# 统计得分\n",
    "score = sum(predict == y_test)\n",
    "accuracy = score / y_test.shape[0]\n",
    "print('accuracy:', accuracy)"
   ]
  },
  {
   "cell_type": "code",
   "execution_count": 18,
   "id": "6a667135",
   "metadata": {
    "ExecuteTime": {
     "end_time": "2021-08-25T09:18:49.275181Z",
     "start_time": "2021-08-25T09:18:49.266915Z"
    }
   },
   "outputs": [
    {
     "data": {
      "text/plain": [
       "{'penalty': 'none',\n",
       " 'dual': False,\n",
       " 'tol': 0.0001,\n",
       " 'C': 1.0,\n",
       " 'fit_intercept': True,\n",
       " 'intercept_scaling': 1,\n",
       " 'class_weight': None,\n",
       " 'random_state': None,\n",
       " 'solver': 'lbfgs',\n",
       " 'max_iter': 1000,\n",
       " 'multi_class': 'ovr',\n",
       " 'verbose': 0,\n",
       " 'warm_start': False,\n",
       " 'n_jobs': None,\n",
       " 'l1_ratio': None,\n",
       " 'n_features_in_': 4,\n",
       " 'classes_': array(['B', 'L', 'R'], dtype=object),\n",
       " 'n_iter_': array([18, 22, 20], dtype=int32),\n",
       " 'coef_': array([[ 0.00505033, -0.10849751, -0.14430434,  0.00894745],\n",
       "        [ 3.4253221 ,  3.53418944, -3.31746534, -3.37972654],\n",
       "        [-3.7680909 , -3.72367707,  3.82426369,  3.75618513]]),\n",
       " 'intercept_': array([-1.81740797, -1.60190567, -1.36577551])}"
      ]
     },
     "execution_count": 18,
     "metadata": {},
     "output_type": "execute_result"
    }
   ],
   "source": [
    "lr.__dict__"
   ]
  },
  {
   "cell_type": "code",
   "execution_count": 51,
   "id": "c7fa917c",
   "metadata": {
    "ExecuteTime": {
     "end_time": "2021-08-25T09:48:32.309994Z",
     "start_time": "2021-08-25T09:48:32.299500Z"
    }
   },
   "outputs": [
    {
     "name": "stdout",
     "output_type": "stream",
     "text": [
      "classes:  ['B' 'L' 'R']\n",
      "train score:  0.888\n",
      "test score:  0.832\n",
      "all data score:  0.8768\n",
      "0    1\n",
      "1    1\n",
      "2    1\n",
      "3    2\n",
      "4    R\n",
      "Name: 1, dtype: object\n",
      "[[1 1 1 2]]\n",
      "predict:  ['R']\n",
      "predict_log_proba [[-2.21348945 -4.77300934 -0.12530636]]\n",
      "predict_proba [[0.10931852 0.0084549  0.88222658]]\n"
     ]
    }
   ],
   "source": [
    "# lr.fit(lr.classes_)\n",
    "print('classes: ', lr.classes_)\n",
    "# # Return the mean accuracy on the given test data and labels.\n",
    "print('train score: ', lr.score(x_train, y_train))\n",
    "print('test score: ', lr.score(x_test, y_test))\n",
    "print('all data score: ', lr.score(balance_scale_x, balance_scale_y))\n",
    "\n",
    "d0 = balance_scale.loc[1]\n",
    "d1 = balance_scale.loc[1, :3].values.reshape((-1, 4))\n",
    "print(d0)\n",
    "print(d1)\n",
    "\n",
    "print('predict: ', lr.predict(d1))\n",
    "\n",
    "print('predict_log_proba', lr.predict_log_proba(d1))   #Predict logarithm of probability estimates.\n",
    "\n",
    "print('predict_proba', lr.predict_proba(d1))   # Probability estimates."
   ]
  },
  {
   "cell_type": "code",
   "execution_count": 31,
   "id": "e4a95525",
   "metadata": {
    "ExecuteTime": {
     "end_time": "2021-08-25T09:33:36.334530Z",
     "start_time": "2021-08-25T09:33:36.329893Z"
    }
   },
   "outputs": [
    {
     "data": {
      "text/plain": [
       "0.8768"
      ]
     },
     "execution_count": 31,
     "metadata": {},
     "output_type": "execute_result"
    }
   ],
   "source": [
    "(0.888*0.8 + 0.832 * 0.2) "
   ]
  },
  {
   "cell_type": "code",
   "execution_count": 52,
   "id": "9a7094e3",
   "metadata": {
    "ExecuteTime": {
     "end_time": "2021-08-25T09:55:36.789403Z",
     "start_time": "2021-08-25T09:55:36.782605Z"
    }
   },
   "outputs": [
    {
     "data": {
      "text/plain": [
       "{'C': 1.0,\n",
       " 'class_weight': None,\n",
       " 'dual': False,\n",
       " 'fit_intercept': True,\n",
       " 'intercept_scaling': 1,\n",
       " 'l1_ratio': None,\n",
       " 'max_iter': 1000,\n",
       " 'multi_class': 'ovr',\n",
       " 'n_jobs': None,\n",
       " 'penalty': 'none',\n",
       " 'random_state': None,\n",
       " 'solver': 'lbfgs',\n",
       " 'tol': 0.0001,\n",
       " 'verbose': 0,\n",
       " 'warm_start': False}"
      ]
     },
     "execution_count": 52,
     "metadata": {},
     "output_type": "execute_result"
    }
   ],
   "source": [
    "lr.get_params()"
   ]
  },
  {
   "cell_type": "code",
   "execution_count": 53,
   "id": "9d813cf6",
   "metadata": {
    "ExecuteTime": {
     "end_time": "2021-08-25T09:56:25.882900Z",
     "start_time": "2021-08-25T09:56:25.876410Z"
    }
   },
   "outputs": [
    {
     "data": {
      "text/plain": [
       "LogisticRegression(max_iter=1000, multi_class='ovr', penalty='none')"
      ]
     },
     "execution_count": 53,
     "metadata": {},
     "output_type": "execute_result"
    }
   ],
   "source": [
    "lr.densify()"
   ]
  },
  {
   "cell_type": "code",
   "execution_count": 55,
   "id": "bd57a023",
   "metadata": {
    "ExecuteTime": {
     "end_time": "2021-08-25T09:56:51.943721Z",
     "start_time": "2021-08-25T09:56:51.932223Z"
    }
   },
   "outputs": [
    {
     "data": {
      "text/plain": [
       "LogisticRegression(max_iter=1000, multi_class='ovr', penalty='none')"
      ]
     },
     "execution_count": 55,
     "metadata": {},
     "output_type": "execute_result"
    }
   ],
   "source": [
    "lr.sparsify()"
   ]
  },
  {
   "cell_type": "code",
   "execution_count": 203,
   "id": "419440b0",
   "metadata": {
    "ExecuteTime": {
     "end_time": "2021-08-25T17:11:28.775013Z",
     "start_time": "2021-08-25T17:11:28.763173Z"
    }
   },
   "outputs": [],
   "source": [
    "# 基于隐藏层对该函数使用回归\n",
    "# 隐藏层的输入系数w, b是随机初始化为[-c, c]的均匀分布\n",
    "\n",
    "def sigmoid(x):\n",
    "    return 1 / (1 + np.exp(-x))\n",
    "\n",
    "def softmax(x):\n",
    "    x_exp = np.exp(x)\n",
    "    #如果是列向量，则axis=0\n",
    "    x_sum = np.sum(x_exp, axis = 0)\n",
    "    s = x_exp / x_sum    \n",
    "    return s\n",
    "def SDs(predict, y_test):\n",
    "    loss = np.sum((predict - y_test) ** 2, axis = 1)\n",
    "    std = np.sqrt(sum(loss)) /  y_test.shape[0]\n",
    "    return  std\n",
    "\n",
    "def random_initialize_hidden(x, hiddennodes, c=1,seed=1111):\n",
    "    '''\n",
    "    inputnodes : 输入的特征数目\n",
    "    hiddennodes: 隐藏层的节点数目\n",
    "    n: 样本数量\n",
    "    c ： 权重和bias的范围， 均匀分布\n",
    "    '''\n",
    "    np.random.seed(seed)\n",
    "    n, inputnodes = x. shape\n",
    "    hidden = np.zeros((n, hiddennodes))   # initial hidden layer\n",
    "   \n",
    "    w = np.random.uniform(-c, c, (inputnodes, hiddennodes))   # 生成weights\n",
    "    b = np.random.uniform(-c, c, (hiddennodes))\n",
    "    \n",
    "    for i in range(n):\n",
    "        hidden[i] = np.dot(w.T, x[i]) + b\n",
    "     # 激活\n",
    "    hidden = sigmoid(hidden)\n",
    "    return hidden\n",
    "\n",
    "def targets_encoder(targets, encoder = 'LabelEncoder'):\n",
    "    label = targets.unique()\n",
    "    print(label)\n",
    "    dict_label = {}\n",
    "    if encoder == 'LabelEncoder':\n",
    "        # d对标签进行编码\n",
    "        enc = LabelEncoder().fit(label)\n",
    "        classes = enc.transform(label)    # enc.classes_\n",
    "        targets = enc.transform(targets)\n",
    "       \n",
    "        for i in range(len(label)):\n",
    "            dict_label[label[i]] = classes[i]\n",
    "\n",
    "    elif encoder == 'OneHotEncoder':\n",
    "        label1 = label[:,np.newaxis]   # [[],[]] 添加一个维度\n",
    "        targets = targets[:, np.newaxis]\n",
    "        enc = OneHotEncoder().fit(label1)\n",
    "        classes= enc.transform(label1).toarray()\n",
    "        targets = enc.transform(targets).toarray()        \n",
    "\n",
    "    elif encoder == 'OrdinalEncoder':\n",
    "        label1 = label[:,np.newaxis]   # [[],[]] 添加一个维度\n",
    "        targets = targets[:, np.newaxis]\n",
    "        enc = OrdinalEncoder().fit(label1)\n",
    "        classes= enc.transform(label1)\n",
    "        targets = enc.transform(targets)\n",
    "        \n",
    "    for i in range(len(label)):\n",
    "        dict_label[label[i]] = classes[i]\n",
    "    \n",
    "    return targets, dict_label"
   ]
  },
  {
   "cell_type": "code",
   "execution_count": 79,
   "id": "aacd66ec",
   "metadata": {
    "ExecuteTime": {
     "end_time": "2021-08-25T10:35:02.396383Z",
     "start_time": "2021-08-25T10:35:02.289665Z"
    }
   },
   "outputs": [
    {
     "name": "stdout",
     "output_type": "stream",
     "text": [
      "hidden shape (625, 200)\n",
      "w \n",
      " [[-1.97820445e-02 -6.21787497e-02 -7.44673288e-02 -9.24403307e-02\n",
      "  -1.67063229e-01  1.11048321e-01 -6.14330164e-02  1.38035639e-02\n",
      "  -5.64221131e-02  6.15489306e-02 -5.10316387e-02 -5.96534655e-02\n",
      "   1.54727476e-01  3.58452261e-01  9.53278305e-02  1.07298617e-01\n",
      "   6.28264362e-02  7.09282035e-02 -6.93086485e-02 -2.27413902e-02\n",
      "   1.47362636e-02 -3.21341493e-02  1.08779601e-01 -6.65669904e-02\n",
      "   2.05876056e-01 -1.67775573e-02 -1.91032358e-01 -6.98701135e-02\n",
      "   4.10911341e-02 -1.16621902e-01  4.06676794e-02  1.84755393e-02\n",
      "  -6.01272746e-02  7.36527212e-02  2.02156361e-02  8.84971016e-02\n",
      "   1.23310620e-01  3.62368890e-01 -1.04238460e-02 -1.35027706e-02\n",
      "   1.35287412e-02  1.55679201e-01  7.86825547e-03 -6.78063484e-02\n",
      "  -1.90366994e-01  3.51520977e-02 -5.93934704e-02  7.35858816e-02\n",
      "  -2.10669271e-02  3.06093461e-02  1.06541658e-02 -8.08276638e-02\n",
      "   1.57326120e-02  7.79558919e-02  7.36692136e-03  8.32897000e-03\n",
      "   1.27464706e-02 -2.30166133e-02  8.46653468e-02  1.75317732e-01\n",
      "   1.39873869e-02  7.84376934e-02  1.60521656e-01 -9.41306512e-02\n",
      "   1.46015916e-02 -2.74348252e-02  1.65568927e-02 -1.51296949e-01\n",
      "  -3.20286328e-02 -4.90901021e-02  3.43452160e-02 -4.10054533e-01\n",
      "  -9.42668322e-04 -7.48025341e-03 -1.94475400e-01 -4.32363960e-02\n",
      "   5.00848122e-03 -1.65083115e-02  4.02702839e-02  1.80812919e-01\n",
      "  -3.79149254e-02 -9.54601286e-02  6.70544791e-02  8.81050274e-02\n",
      "   1.96103909e-02  4.57659549e-03  6.08845169e-02 -2.73938162e-02\n",
      "   3.83323444e-02 -7.25063628e-02 -1.05270965e-01  2.34761140e-02\n",
      "   9.48644214e-02  8.18207224e-02  1.61008091e-01  9.32141349e-02\n",
      "   1.59420057e-02  1.32047967e-02 -3.99936586e-02  1.79562822e-01\n",
      "  -1.08017709e-01  1.45404886e-01 -1.91061031e-02  4.99034703e-03\n",
      "  -2.04705748e-03 -3.92531130e-02 -3.19218403e-02  1.76746889e-02\n",
      "   2.02491217e-02  2.05908888e-01  1.19080734e-01 -4.15944838e-02\n",
      "  -9.47029947e-02  1.36055502e-01 -2.38975562e-02  7.13204398e-02\n",
      "  -4.81717999e-02  1.27285202e-02 -7.84423105e-02 -1.53850674e-01\n",
      "   2.86039778e-02  1.05597888e-02  7.39214843e-04  6.27702378e-02\n",
      "   7.18225842e-02  1.18170300e-01 -1.57288452e-01  9.98640193e-03\n",
      "   2.68111926e-02  1.64116950e-01 -2.10499484e-01  2.46245326e-02\n",
      "   4.76219838e-02  4.34286320e-02 -7.03628814e-02  1.25239634e-01\n",
      "   1.82901606e-02  5.63093981e-02  4.85709252e-02  2.60718411e-02\n",
      "  -1.09509832e-01 -4.27331105e-02  6.85078385e-02 -7.22337832e-02\n",
      "   5.30923901e-03 -1.11432666e-01  6.16864604e-02  5.03854899e-02\n",
      "   1.55134376e-01 -1.07456329e-01  4.97279525e-02  2.71757167e-02\n",
      "   1.63422571e-01  5.52756876e-02 -7.01573391e-02  2.21493973e-02\n",
      "  -3.58155396e-01  4.69297325e-04  1.09404752e-02 -1.60793229e-01\n",
      "  -5.35216020e-02 -1.22470473e-01 -4.71230384e-02 -9.14170571e-02\n",
      "   1.11845108e-01  2.20978242e-02 -5.93593448e-02 -1.06096421e-01\n",
      "  -6.46157530e-02  1.13075898e-01 -3.61912570e-02 -1.31381664e-01\n",
      "   2.54168102e-02  6.65076359e-02  9.67914604e-02 -1.39236060e-01\n",
      "   9.02630399e-02  3.91741443e-02  1.55121071e-01 -8.74509291e-02\n",
      "   1.82100132e-01  3.88914399e-03  2.98140339e-01  2.89996650e-02\n",
      "   1.16834576e-02  1.37851624e-02 -1.32661326e-01 -1.43490239e-01\n",
      "   2.56534399e-02 -7.21950191e-02 -1.25559021e-01  1.46490140e-01\n",
      "  -9.00266305e-02  3.31468267e-02 -4.93574912e-02 -8.37773919e-02\n",
      "  -3.80108664e-02 -3.73307631e-01 -9.03582046e-03  6.87090100e-02]\n",
      " [-5.89414992e-01 -2.65467706e-01 -1.58016117e-01  2.17788097e-01\n",
      "  -1.30003195e-02  4.27013875e-01  1.92504929e-01  2.58405399e-02\n",
      "  -2.08560483e-01  5.06828871e-01  6.52050292e-02 -4.60698359e-02\n",
      "   4.68595993e-01 -5.70515913e-03  3.24201716e-01  5.04437954e-01\n",
      "  -1.47802551e-01 -2.88272728e-01  4.98103834e-02 -1.21301994e-02\n",
      "   2.37363556e-01  4.28441433e-01  3.65648197e-01  3.38060945e-01\n",
      "  -6.45092596e-01 -4.98367737e-01  3.35106143e-01  1.03895917e+00\n",
      "   9.75551195e-02  6.75532359e-01 -4.15914332e-03 -6.38561731e-03\n",
      "  -3.88586768e-01  4.96278905e-01  3.09950340e-02  6.38028371e-01\n",
      "   1.78701511e-01  6.09431223e-01 -1.59073018e-01  5.77369555e-01\n",
      "  -3.54094390e-03  1.36016542e-01 -7.27850514e-03 -3.11572050e-01\n",
      "   4.13131939e-01 -2.10077923e-01  1.19643416e-01  3.39249057e-01\n",
      "   5.47375991e-02  6.18144274e-02 -1.61415432e-01  4.41843176e-02\n",
      "   9.56239153e-03  7.26503154e-02  1.05951805e-01 -2.13216199e-01\n",
      "  -8.68313977e-02  3.71403306e-01 -5.74492819e-01 -7.00025446e-01\n",
      "   4.82057900e-02 -6.80152233e-02  4.75207608e-01  1.11502304e+00\n",
      "   8.83138246e-02 -6.10722385e-01 -6.79501472e-02  1.15651469e-01\n",
      "   1.32628256e-01  6.96305344e-02  5.64483731e-03  1.82719788e-01\n",
      "   1.13803639e-01 -3.05242942e-01  3.26746929e-02 -9.31366337e-02\n",
      "  -5.30889513e-01 -5.45544357e-01 -2.71625745e-02 -1.30606623e+00\n",
      "  -4.62360681e-01 -2.99795542e-01 -3.78603620e-01  1.55627792e-01\n",
      "  -2.71408549e-01  1.14883484e-01 -5.46562766e-01 -2.02268526e-01\n",
      "  -1.40670771e-02  3.38463811e-01 -6.19373219e-02  4.34597683e-02\n",
      "  -1.87497877e-01 -5.92644552e-01  3.00738885e-02  4.55276294e-02\n",
      "  -1.26667223e-02 -1.09678216e-01  4.90613699e-02 -3.82571272e-01\n",
      "  -3.92676186e-01 -9.78173640e-02 -2.17886262e-02  1.88831428e-01\n",
      "  -5.44959496e-03 -8.98745636e-02  8.36368651e-02 -5.36792543e-01\n",
      "  -1.45134778e-01 -9.48977146e-02  5.52012651e-02  2.67168545e-01\n",
      "  -7.04913345e-01 -5.01466692e-01 -4.34455856e-02 -4.72192473e-02\n",
      "   5.32327189e-02  4.43691961e-02  1.53968382e-01  6.01401651e-01\n",
      "  -7.09669283e-01  2.29984158e-01  1.40040932e-01  8.31220168e-01\n",
      "  -3.53167270e-01 -4.85036504e-02 -8.77256804e-01  1.44922202e-01\n",
      "  -4.38763747e-03  5.38932542e-02 -2.09193487e-02 -2.37884911e-01\n",
      "   8.45357122e-02 -2.50063560e-02 -9.76420920e-01  6.47179401e-01\n",
      "  -1.88291451e-03  6.64433782e-01  9.98024128e-03  1.84906084e-01\n",
      "  -2.98413720e-02  4.25470225e-02 -3.81626713e-02  9.97378413e-03\n",
      "  -1.92813659e-01  6.63121526e-01 -6.89541723e-01  7.52386949e-02\n",
      "  -3.24173273e-01 -2.21346632e-01  1.57446927e-01 -4.07228018e-01\n",
      "   1.28101075e-01  2.98823643e-01 -4.29428840e-01 -7.38097824e-02\n",
      "   4.52121111e-01  4.96415967e-02  3.27955146e-02  8.60540263e-01\n",
      "   1.24636667e-01  3.25656594e-01  6.56060743e-02 -1.08093420e-01\n",
      "  -7.87997734e-03 -2.28750800e-01  4.36133645e-02  1.32139443e-01\n",
      "   6.58730011e-02 -6.25806390e-01 -6.52988350e-01  1.09747579e-01\n",
      "  -7.29743875e-02  4.97803773e-02  2.97024857e-01 -9.94746712e-02\n",
      "  -5.66862865e-01 -1.16653230e-02 -8.48290726e-01  1.26754830e-01\n",
      "  -4.24278329e-01 -3.50777881e-02 -7.93804525e-01 -3.29138138e-02\n",
      "  -6.82082550e-03  3.44421301e-02  1.61678765e-01 -2.45845326e-01\n",
      "   2.85728140e-01  9.53294105e-02  1.07341750e-01 -5.25156692e-01\n",
      "  -1.41322463e-01  2.89462353e-01  1.30548146e-02  1.58064020e-01\n",
      "   4.01305378e-01  2.90995925e-01  1.34701038e-01 -1.00246347e-01]\n",
      " [ 6.09197037e-01  3.27646455e-01  2.32483446e-01 -1.25347766e-01\n",
      "   1.80063548e-01 -5.38062196e-01 -1.31071913e-01 -3.96441038e-02\n",
      "   2.64982596e-01 -5.68377802e-01 -1.41733904e-02  1.05723301e-01\n",
      "  -6.23323469e-01 -3.52747101e-01 -4.19529546e-01 -6.11736570e-01\n",
      "   8.49761149e-02  2.17344524e-01  1.94982651e-02  3.48715896e-02\n",
      "  -2.52099820e-01 -3.96307284e-01 -4.74427798e-01 -2.71493955e-01\n",
      "   4.39216540e-01  5.15145294e-01 -1.44073785e-01 -9.69089056e-01\n",
      "  -1.38646254e-01 -5.58910457e-01 -3.65085360e-02 -1.20899220e-02\n",
      "   4.48714042e-01 -5.69931626e-01 -5.12106700e-02 -7.26525473e-01\n",
      "  -3.02012131e-01 -9.71800113e-01  1.69496864e-01 -5.63866785e-01\n",
      "  -9.98779733e-03 -2.91695743e-01 -5.89750321e-04  3.79378398e-01\n",
      "  -2.22764944e-01  1.74925825e-01 -6.02499458e-02 -4.12834938e-01\n",
      "  -3.36706720e-02 -9.24237735e-02  1.50761266e-01  3.66433461e-02\n",
      "  -2.52950035e-02 -1.50606207e-01 -1.13318726e-01  2.04887229e-01\n",
      "   7.40849271e-02 -3.48386693e-01  4.89827473e-01  5.24707714e-01\n",
      "  -6.21931769e-02 -1.04224702e-02 -6.35729264e-01 -1.02089238e+00\n",
      "  -1.02915416e-01  6.38157210e-01  5.13932545e-02  3.56454800e-02\n",
      "  -1.00599623e-01 -2.05404323e-02 -3.99900533e-02  2.27334745e-01\n",
      "  -1.12860971e-01  3.12723195e-01  1.61800707e-01  1.36373030e-01\n",
      "   5.25881031e-01  5.62052668e-01 -1.31077093e-02  1.12525331e+00\n",
      "   5.00275606e-01  3.95255670e-01  3.11549141e-01 -2.43732819e-01\n",
      "   2.51798158e-01 -1.19460080e-01  4.85678249e-01  2.29662342e-01\n",
      "  -2.42652674e-02 -2.65957448e-01  1.67208287e-01 -6.69358823e-02\n",
      "   9.26334554e-02  5.10823829e-01 -1.91081980e-01 -1.38741764e-01\n",
      "  -3.27528338e-03  9.64734191e-02 -9.06771129e-03  2.03008450e-01\n",
      "   5.00693895e-01 -4.75875223e-02  4.08947292e-02 -1.93821775e-01\n",
      "   7.49665244e-03  1.29127677e-01 -5.17150248e-02  5.19117854e-01\n",
      "   1.24885656e-01 -1.11011173e-01 -1.74281999e-01 -2.25574061e-01\n",
      "   7.99616340e-01  3.65411191e-01  6.73431417e-02 -2.41011925e-02\n",
      "  -5.06091896e-03 -5.70977163e-02 -7.55260718e-02 -4.47550977e-01\n",
      "   6.81065305e-01 -2.40543947e-01 -1.40780147e-01 -8.93990405e-01\n",
      "   2.81344686e-01 -6.96666492e-02  1.03454526e+00 -1.54908604e-01\n",
      "  -2.24235551e-02 -2.18010204e-01  2.31418833e-01  2.13260378e-01\n",
      "  -1.32157696e-01 -1.84222760e-02  1.04678380e+00 -7.72419035e-01\n",
      "  -1.64072461e-02 -7.20743180e-01 -5.85511665e-02 -2.10977925e-01\n",
      "   1.39351205e-01  1.86087991e-04 -3.03451672e-02  6.22599991e-02\n",
      "   1.87504420e-01 -5.51688859e-01  6.27855262e-01 -1.25624185e-01\n",
      "   1.69038897e-01  3.28802961e-01 -2.07174880e-01  3.80052301e-01\n",
      "  -2.91523646e-01 -3.54099331e-01  4.99586179e-01  5.16603851e-02\n",
      "  -9.39657146e-02 -5.01108941e-02 -4.37359898e-02 -6.99747034e-01\n",
      "  -7.11150649e-02 -2.03186121e-01 -1.84830359e-02  1.99510477e-01\n",
      "  -1.03965131e-01  2.06652976e-01  1.57459803e-02 -2.60430219e-02\n",
      "  -1.25724814e-03  5.12730492e-01  6.89179607e-01  2.16340854e-02\n",
      "   4.75575773e-02 -1.16288013e-01 -3.93816317e-01  2.38710731e-01\n",
      "   4.76599825e-01 -2.75088213e-02  6.93169654e-01 -3.93039009e-02\n",
      "   2.42178196e-01  3.11886441e-02  4.95664186e-01  3.91414882e-03\n",
      "  -4.86263212e-03 -4.82272925e-02 -2.90174385e-02  3.89335565e-01\n",
      "  -3.11381580e-01 -2.31343914e-02  1.82172711e-02  3.78666552e-01\n",
      "   2.31349093e-01 -3.22609180e-01  3.63026766e-02 -7.42866280e-02\n",
      "  -3.63294512e-01  8.23117054e-02 -1.25665217e-01  3.15373366e-02]]\n",
      "=====================模型预测的概率：\n",
      " ['L' 'R' 'R' 'R' 'L' 'R' 'L' 'R' 'L' 'R' 'B' 'L' 'L' 'L' 'L' 'R' 'R' 'B'\n",
      " 'L' 'R' 'L' 'R' 'R' 'L' 'L' 'R' 'L' 'R' 'R' 'R' 'L' 'L' 'R' 'L' 'R' 'L'\n",
      " 'R' 'L' 'B' 'R' 'R' 'L' 'L' 'R' 'R' 'L' 'R' 'R' 'R' 'R' 'R' 'R' 'R' 'L'\n",
      " 'L' 'R' 'L' 'L' 'R' 'R' 'L' 'R' 'R' 'L' 'L' 'R' 'L' 'R' 'R' 'L' 'L' 'R'\n",
      " 'L' 'L' 'R' 'L' 'R' 'L' 'L' 'L' 'L' 'R' 'R' 'L' 'R' 'R' 'L' 'L' 'L' 'L'\n",
      " 'L' 'R' 'L' 'R' 'L' 'L' 'R' 'L' 'L' 'L' 'R' 'L' 'R' 'R' 'B' 'L' 'R' 'R'\n",
      " 'R' 'R' 'R' 'R' 'R' 'L' 'L' 'R' 'L' 'R' 'L' 'R' 'L' 'L' 'L' 'L' 'R']\n",
      "score 0.912\n"
     ]
    },
    {
     "name": "stderr",
     "output_type": "stream",
     "text": [
      "/Users/snszz/opt/anaconda3/envs/tensorflow/lib/python3.7/site-packages/sklearn/linear_model/_logistic.py:765: ConvergenceWarning: lbfgs failed to converge (status=1):\n",
      "STOP: TOTAL NO. of ITERATIONS REACHED LIMIT.\n",
      "\n",
      "Increase the number of iterations (max_iter) or scale the data as shown in:\n",
      "    https://scikit-learn.org/stable/modules/preprocessing.html\n",
      "Please also refer to the documentation for alternative solver options:\n",
      "    https://scikit-learn.org/stable/modules/linear_model.html#logistic-regression\n",
      "  extra_warning_msg=_LOGISTIC_SOLVER_CONVERGENCE_MSG)\n"
     ]
    }
   ],
   "source": [
    "balance_scale_x1 = balance_scale_x\n",
    "balance_scale_y1 = balance_scale_y\n",
    "balance_scale_x1_hidden = random_initialize_hidden(balance_scale_x1, hiddennodes=200, c=1,seed=1111 )\n",
    "print('hidden shape', balance_scale_x1_hidden.shape)\n",
    "\n",
    "x_train,x_test,y_train,y_test = train_test_split(balance_scale_x1_hidden, balance_scale_y1,test_size=0.2,random_state=1)\n",
    "\n",
    "lr = LogisticRegression(penalty = 'none',max_iter=1000,multi_class=\"ovr\")\n",
    "lr.fit(x_train,y_train)\n",
    "w = lr.coef_\n",
    "b = lr.intercept_\n",
    "print('w \\n', w)\n",
    "p=lr.predict(x_test)\n",
    "print(\"=====================模型预测的概率：\\n\",p)\n",
    "\n",
    "score = lr.score(x_test, y_test)    # Return the coefficient of determination  of the prediction.\n",
    "print('score', score)"
   ]
  },
  {
   "cell_type": "code",
   "execution_count": 144,
   "id": "c871699d",
   "metadata": {
    "ExecuteTime": {
     "end_time": "2021-08-25T11:56:09.591238Z",
     "start_time": "2021-08-25T11:56:09.521452Z"
    }
   },
   "outputs": [
    {
     "name": "stdout",
     "output_type": "stream",
     "text": [
      "hidden shape (625, 400)\n",
      "['B' 'R' 'L']\n",
      "accuracy: 0.5238095238095238\n"
     ]
    },
    {
     "name": "stderr",
     "output_type": "stream",
     "text": [
      "/Users/snszz/.local/lib/python3.7/site-packages/ipykernel_launcher.py:49: FutureWarning: Support for multi-dimensional indexing (e.g. `obj[:, None]`) is deprecated and will be removed in a future version.  Convert to a numpy array before indexing instead.\n"
     ]
    }
   ],
   "source": [
    "balance_scale_x1 = balance_scale_x\n",
    "balance_scale_y1 = balance_scale.iloc[:, 4]\n",
    "balance_scale_x1_hidden = random_initialize_hidden(balance_scale_x1, hiddennodes=400, c=0.55,seed=1111 )\n",
    "print('hidden shape', balance_scale_x1_hidden.shape)\n",
    "balance_scale_y1, dict_label = targets_encoder(balance_scale_y1, encoder = 'OneHotEncoder')\n",
    "x_train,x_test,y_train,y_test = train_test_split(balance_scale_x1_hidden, balance_scale_y1,test_size=0.1,random_state=1)\n",
    "\n",
    "# 求 Moore–Penrose generalized inverse ：广义逆\n",
    "x_train_inv = np.linalg.pinv(x_train)\n",
    "# 回归系数\n",
    "beta = np.dot(x_train_inv, y_train)\n",
    "# 预测\n",
    "predict = np.dot(x_test, beta)\n",
    "# 提取标签\n",
    "predict_label = np.argmax(softmax(predict), axis=1)\n",
    "\n",
    "# 统计得分\n",
    "score = []\n",
    "for i in range(y_test.shape[0]):\n",
    "    if predict_label[i] == np.argmax(y_test[i]):\n",
    "        score.append(1)\n",
    "    else:\n",
    "        score.append(0)\n",
    "accuracy = sum(score) / len(score)\n",
    "print('accuracy:', accuracy)\n"
   ]
  },
  {
   "cell_type": "code",
   "execution_count": 137,
   "id": "0f06775c",
   "metadata": {
    "ExecuteTime": {
     "end_time": "2021-08-25T11:54:40.612439Z",
     "start_time": "2021-08-25T11:54:40.506736Z"
    }
   },
   "outputs": [
    {
     "name": "stdout",
     "output_type": "stream",
     "text": [
      "w.shape \n",
      " (3, 400)\n",
      "=====================模型预测的概率：\n",
      " [[ 0.07738936  1.28355146 -0.36094082]\n",
      " [-0.2753665   0.9305991   0.3447674 ]\n",
      " [ 0.27129295 -0.27578741  1.00449446]\n",
      " [-0.16644666  0.58385495  0.58259171]\n",
      " [-0.6612903   1.5612959   0.09999441]]\n",
      "accuracy: 0.06349206349206349\n"
     ]
    }
   ],
   "source": [
    "lr = LinearRegression()\n",
    "lr.fit(x_train, y_train)\n",
    "\n",
    "w = lr.coef_\n",
    "b = lr.intercept_\n",
    "print('w.shape \\n', w.shape)\n",
    "predict=lr.predict(x_test)\n",
    "print(\"=====================模型预测的概率：\\n\",predict[:5])\n",
    "\n",
    "# 统计得分\n",
    "score = []\n",
    "for i in range(y_test.shape[0]):\n",
    "    if predict_label[i] == np.argmax(y_test[i]):\n",
    "        score.append(1)\n",
    "    else:\n",
    "        score.append(0)\n",
    "accuracy = sum(score) / len(score)\n",
    "print('accuracy:', accuracy)\n",
    "\n"
   ]
  },
  {
   "cell_type": "code",
   "execution_count": 163,
   "id": "1f1579f5",
   "metadata": {
    "ExecuteTime": {
     "end_time": "2021-08-25T16:08:50.254003Z",
     "start_time": "2021-08-25T16:08:50.245448Z"
    }
   },
   "outputs": [
    {
     "data": {
      "text/plain": [
       "15"
      ]
     },
     "execution_count": 163,
     "metadata": {},
     "output_type": "execute_result"
    }
   ],
   "source": [
    "# 把所有数据的listdir一列换成输出类别\n",
    "\n",
    "# {'diabetes.txt', 'transfusion.data', 'balance-scale.data'}\n",
    "import os\n",
    "\n",
    "path = r'/Users/snszz/PycharmProjects/AVFL/RVFL_datasets/UCI/'\n",
    "data_path = []\n",
    "for path1 in os.listdir(path):\n",
    "    for path2 in os.listdir(path + path1):\n",
    "        if path2.endswith('csv'): \n",
    "            path2 = path + path1  + '/' + path2\n",
    "            data_path.append(path2)\n",
    "len(data_path) "
   ]
  },
  {
   "cell_type": "code",
   "execution_count": 138,
   "id": "0f9c422f",
   "metadata": {
    "ExecuteTime": {
     "end_time": "2021-08-25T11:54:52.607487Z",
     "start_time": "2021-08-25T11:54:52.601801Z"
    }
   },
   "outputs": [
    {
     "data": {
      "text/plain": [
       "6.34"
      ]
     },
     "execution_count": 138,
     "metadata": {},
     "output_type": "execute_result"
    }
   ],
   "source": [
    "# 使得其对于任意分类数据有用\n",
    "# 1. 读入数据， path\n",
    "# 2. 对特征和输出值分别进行处理， 特征---> 隐藏层权重初始化，拟合，激活； 输出-->one-hot编码, \n",
    "# 2.1 数据划分\n",
    "# 3. Hb - T --->模型的求解\n",
    "# 4. b = H^(-1) T,  H^(-1) ---定义成广义逆，\n",
    "# 5. 预测 predict = H(x_test)b--->   使用softmax---->换算成概率\n",
    "# 6. 求score：预测正确的个数\n",
    "# 7. 求精度 accuracy = score / y_test.shape[0]\n",
    "# 8. 标准差--- sum((predict - y_test) ** 2,axis = 1).sum() / y_test.shape[0]\n",
    "# 9. 注意所得结果是30次试验的平均值"
   ]
  },
  {
   "cell_type": "code",
   "execution_count": 205,
   "id": "d07f6f0b",
   "metadata": {
    "ExecuteTime": {
     "end_time": "2021-08-25T17:12:20.679095Z",
     "start_time": "2021-08-25T17:12:19.668254Z"
    }
   },
   "outputs": [
    {
     "name": "stdout",
     "output_type": "stream",
     "text": [
      "['B' 'R' 'L']\n",
      "accuracy: \n",
      " [0.72, 0.672, 0.688, 0.704, 0.672, 0.712, 0.704, 0.728, 0.688, 0.72, 0.68, 0.688, 0.608, 0.696, 0.704, 0.696, 0.696, 0.688, 0.688, 0.704, 0.736, 0.744, 0.704, 0.688, 0.728, 0.664, 0.72, 0.664, 0.736, 0.672]\n",
      "standard deviations:\n",
      " [0.09341743441677319, 0.07303751648101502, 0.06932033450553814, 0.06684055306197431, 0.0602198987163146, 0.06840504584842107, 0.06788866371115425, 0.06064102062511992, 0.07360747142013617, 0.06524882964766399, 0.07056586255105336, 0.07132721504844344, 0.07114385984877634, 0.05671871478191825, 0.0645747317235232, 0.06224136377115998, 0.06516405025138802, 0.06685178723669513, 0.07062427380753271, 0.06297100089869961, 0.06119980900938019, 0.06268725045593931, 0.06704606212328258, 0.06170205898124319, 0.06128266513746566, 0.06823257385996459, 0.060988888937811715, 0.0657826068706944, 0.058523864921134865, 0.06320305646131122]\n"
     ]
    },
    {
     "data": {
      "text/plain": [
       "(0.6970666666666668, 0.06638194883705094)"
      ]
     },
     "execution_count": 205,
     "metadata": {},
     "output_type": "execute_result"
    }
   ],
   "source": [
    "def main(path, max_iter = 30, hiddennodes=200, c=0.55,seed=np.random.randint(1e4)):\n",
    "    # 1. 读入数据， path\n",
    "    data = pd.read_csv(path, sep=',', header=None, encoding='utf-8')\n",
    "    x = data.iloc[:, : -1].values\n",
    "    y = data.iloc[:, -1]\n",
    "    y, dict_label = targets_encoder(y, encoder='OneHotEncoder')\n",
    "    accuracys = []\n",
    "    standard_deviations = []\n",
    "    for iter in range(max_iter):\n",
    "        # 2. 对特征和输出值分别进行处理， 特征---> 隐藏层权重初始化，拟合，激活； 输出-->one-hot编码\n",
    "        x = random_initialize_hidden(x, hiddennodes=hiddennodes, c=c, seed=seed)\n",
    "        \n",
    "        # 2.1 数据划分\n",
    "        x_train,x_test,y_train,y_test = train_test_split(x, y, test_size=0.2, random_state=1111)\n",
    "    \n",
    "        # 3. Hb - T --->模型的求解\n",
    "        # 4. b = H^(-1) T,  H^(-1) ---定义成广义逆，\n",
    "        # 5. 预测 predict = H(x_test)b---> \n",
    "        x_train_inv = np.linalg.pinv(x_train)\n",
    "        # 回归系数\n",
    "        b = np.dot(x_train_inv, y_train)\n",
    "        # 预测\n",
    "        predict = np.dot(x_test, b)\n",
    "        # 提取标签\n",
    "        predict_label = np.argmax(softmax(predict), axis=1)\n",
    "    \n",
    "        # 6. 统计得分\n",
    "        score = []\n",
    "        for i in range(y_test.shape[0]):\n",
    "            if predict_label[i] == np.argmax(y_test[i]):\n",
    "                score.append(1)\n",
    "            else:\n",
    "                score.append(0)\n",
    "        # 7. 计算精度\n",
    "        accuracy = sum(score) / len(score)\n",
    "        \n",
    "        # 计算标准差\n",
    "        SD = SDs(predict, y_test)\n",
    "        accuracys.append(accuracy)\n",
    "        standard_deviations.append(SD)\n",
    "    print('accuracy: \\n', accuracys)\n",
    "    print('standard deviations:\\n',standard_deviations)\n",
    "    # 计算平均accuracy,ave_SD\n",
    "    ave_accuracy = sum(accuracys) / max_iter\n",
    "    ave_SD = sum(standard_deviations) / max_iter\n",
    "        \n",
    "    \n",
    "    return ave_accuracy, ave_SD\n",
    "    \n",
    "path = '/Users/snszz/PycharmProjects/AVFL/RVFL_datasets/UCI/Balance_Scale/balance-scale.csv'\n",
    "ave_accuracy, ave_SD = main(path, hiddennodes=300, c=0.6, seed=np.random.randint(1e4))\n",
    "ave_accuracy, ave_SD"
   ]
  },
  {
   "cell_type": "code",
   "execution_count": null,
   "id": "f729a9e9",
   "metadata": {},
   "outputs": [],
   "source": []
  }
 ],
 "metadata": {
  "hide_input": false,
  "kernelspec": {
   "display_name": "Python 3 (ipykernel)",
   "language": "python",
   "name": "python3"
  },
  "language_info": {
   "codemirror_mode": {
    "name": "ipython",
    "version": 3
   },
   "file_extension": ".py",
   "mimetype": "text/x-python",
   "name": "python",
   "nbconvert_exporter": "python",
   "pygments_lexer": "ipython3",
   "version": "3.7.10"
  },
  "nbTranslate": {
   "displayLangs": [
    "*"
   ],
   "hotkey": "alt-t",
   "langInMainMenu": true,
   "sourceLang": "en",
   "targetLang": "fr",
   "useGoogleTranslate": true
  },
  "toc": {
   "base_numbering": 1,
   "nav_menu": {},
   "number_sections": true,
   "sideBar": true,
   "skip_h1_title": false,
   "title_cell": "Table of Contents",
   "title_sidebar": "Contents",
   "toc_cell": false,
   "toc_position": {},
   "toc_section_display": true,
   "toc_window_display": false
  },
  "varInspector": {
   "cols": {
    "lenName": 16,
    "lenType": 16,
    "lenVar": 40
   },
   "kernels_config": {
    "python": {
     "delete_cmd_postfix": "",
     "delete_cmd_prefix": "del ",
     "library": "var_list.py",
     "varRefreshCmd": "print(var_dic_list())"
    },
    "r": {
     "delete_cmd_postfix": ") ",
     "delete_cmd_prefix": "rm(",
     "library": "var_list.r",
     "varRefreshCmd": "cat(var_dic_list()) "
    }
   },
   "types_to_exclude": [
    "module",
    "function",
    "builtin_function_or_method",
    "instance",
    "_Feature"
   ],
   "window_display": false
  }
 },
 "nbformat": 4,
 "nbformat_minor": 5
}
